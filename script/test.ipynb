{
 "cells": [
  {
   "cell_type": "code",
   "execution_count": null,
   "id": "9e07f1fe",
   "metadata": {},
   "outputs": [],
   "source": [
    "import os \n",
    "import pandas as pd\n",
    "from dotenv import load_dotenv\n",
    "import psycopg2\n",
    "\n",
    "load_dotenv()\n",
    "\n",
    "host = os.getenv(\"DB_HOST\")\n",
    "port = os.getenv(\"DB_PORT\")\n",
    "database = os.getenv(\"DB_NAME\")\n",
    "user = os.getenv(\"DB_USER\")\n",
    "password = os.getenv(\"DB_PASSWORD\")\n",
    "\n",
    "try:\n",
    "    conn = psycopg2.connect(database=database,\n",
    "                            user=user,\n",
    "                            password=password,\n",
    "                            host=host,\n",
    "                            port=port)\n",
    "    print(\"Database connected successfully\")\n",
    "except:\n",
    "    print(\"Database not connected successfully\")"
   ]
  },
  {
   "cell_type": "code",
   "execution_count": 7,
   "id": "ed52243e",
   "metadata": {},
   "outputs": [
    {
     "name": "stdout",
     "output_type": "stream",
     "text": [
      "1st row: (1, 1, 'iPhone 15 Pro Max 256GB - Like New', 'Smartphones', Decimal('1099.99'), 'iPhone 15 Pro Max')\n"
     ]
    }
   ],
   "source": [
    "cur = conn.cursor()\n",
    "cur.execute(\"SELECT * FROM product\")\n",
    "\n",
    "# extract the first row\n",
    "products = cur.fetchall()\n",
    "print(f\"1st row: {products[0]}\")"
   ]
  }
 ],
 "metadata": {
  "kernelspec": {
   "display_name": "base",
   "language": "python",
   "name": "python3"
  },
  "language_info": {
   "codemirror_mode": {
    "name": "ipython",
    "version": 3
   },
   "file_extension": ".py",
   "mimetype": "text/x-python",
   "name": "python",
   "nbconvert_exporter": "python",
   "pygments_lexer": "ipython3",
   "version": "3.12.3"
  }
 },
 "nbformat": 4,
 "nbformat_minor": 5
}
